{
 "cells": [
  {
   "cell_type": "code",
   "id": "initial_id",
   "metadata": {
    "collapsed": true,
    "ExecuteTime": {
     "end_time": "2025-02-02T16:40:02.956018Z",
     "start_time": "2025-02-02T16:40:02.949346Z"
    }
   },
   "source": [
    "import numpy as np\n",
    "\n",
    "def floyd_warshall(graph):\n",
    "    n = len(graph)\n",
    "    # Initialize distance matrix\n",
    "    dist = np.array(graph, dtype=float)\n",
    "\n",
    "    # Replace 0s (except diagonal) with infinity for no direct path\n",
    "    dist[dist == 0] = np.inf\n",
    "    np.fill_diagonal(dist, 0)\n",
    "\n",
    "    # Perform Floyd-Warshall algorithm\n",
    "    for k in range(n):\n",
    "        for i in range(n):\n",
    "            for j in range(n):\n",
    "                dist[i, j] = min(dist[i, j], dist[i, k] + dist[k, j])\n",
    "\n",
    "    return dist\n",
    "\n",
    "# Example graph as adjacency matrix\n",
    "graph = [\n",
    "    [float('inf'), 35, 150, 980, 690, 590],\n",
    "    [35, float('inf'), 220, 130, 390, 810],\n",
    "    [150, 220, float('inf'), 25, 930, 490],\n",
    "    [980, 130, 25, float('inf'), 800, 130],\n",
    "    [690, 390, 930, 800, float('inf'), 5],\n",
    "    [590, 810, 490, 130, 5, float('inf')],\n",
    "]\n",
    "\n",
    "dist_matrix = floyd_warshall(graph)\n",
    "print(\"Shortest distance matrix:\")\n",
    "print(dist_matrix)\n"
   ],
   "outputs": [
    {
     "name": "stdout",
     "output_type": "stream",
     "text": [
      "Shortest distance matrix:\n",
      "[[  0.  35. 150. 165. 300. 295.]\n",
      " [ 35.   0. 155. 130. 265. 260.]\n",
      " [150. 155.   0.  25. 160. 155.]\n",
      " [165. 130.  25.   0. 135. 130.]\n",
      " [300. 265. 160. 135.   0.   5.]\n",
      " [295. 260. 155. 130.   5.   0.]]\n"
     ]
    }
   ],
   "execution_count": 3
  }
 ],
 "metadata": {
  "kernelspec": {
   "display_name": "Python 3",
   "language": "python",
   "name": "python3"
  },
  "language_info": {
   "codemirror_mode": {
    "name": "ipython",
    "version": 2
   },
   "file_extension": ".py",
   "mimetype": "text/x-python",
   "name": "python",
   "nbconvert_exporter": "python",
   "pygments_lexer": "ipython2",
   "version": "2.7.6"
  }
 },
 "nbformat": 4,
 "nbformat_minor": 5
}
