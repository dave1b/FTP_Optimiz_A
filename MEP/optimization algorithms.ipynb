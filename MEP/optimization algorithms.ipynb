{
 "cells": [
  {
   "cell_type": "markdown",
   "id": "02f52b23-7f59-47f1-8153-06db102b1e7c",
   "metadata": {},
   "source": [
    "# Optimization Templates"
   ]
  },
  {
   "cell_type": "code",
   "id": "3d839d5b-ae11-4966-9997-7e4cb203fa56",
   "metadata": {
    "ExecuteTime": {
     "end_time": "2025-02-02T18:02:53.556928Z",
     "start_time": "2025-02-02T18:02:53.540758Z"
    }
   },
   "source": [
    "# imports\n",
    "import numpy as np\n",
    "import sympy as sp"
   ],
   "outputs": [],
   "execution_count": 154
  },
  {
   "cell_type": "markdown",
   "id": "c6c15c2d-57c2-4297-a290-dac142e930fe",
   "metadata": {
    "tags": []
   },
   "source": [
    "## Nonlinear Optimization"
   ]
  },
  {
   "cell_type": "markdown",
   "id": "bc15b6d4-0137-4bad-9ea8-781249e66c4e",
   "metadata": {},
   "source": [
    "###  Function Definition and Derivatives"
   ]
  },
  {
   "cell_type": "code",
   "id": "57bd0803-4c16-4733-8a06-4b0231a10445",
   "metadata": {
    "ExecuteTime": {
     "end_time": "2025-02-02T18:02:53.575122Z",
     "start_time": "2025-02-02T18:02:53.571882Z"
    }
   },
   "source": [
    "# manual function definition\n",
    "def f_x(vec):\n",
    "    x, y = np.array(vec).ravel()\n",
    "    # return (x**4+y**4)\n",
    "    return (x**2-2*x*y+x)**2\n",
    "\n",
    "def grad_f(vec):\n",
    "    x, y = np.array(vec).ravel()\n",
    "    # return np.matrix([4*x**3, 4*y**3]).T\n",
    "    return np.matrix([2*(x**2-2*x*y+x)*(2*x-2*y+1), -4*x*(x**2-2*x*y+x)]).T\n",
    "\n",
    "def hessian_f(vec):\n",
    "    x, y = np.array(vec).ravel()\n",
    "    # return np.matrix([[12*x**2, 0], [0, 12*y**2]])\n",
    "    return np.matrix([[4*(x**2-2*x*y+x)+2*(2*x-2*y+1)**2, -12*x**2-8*x+16*x*y], [-12*x**2-8*x+16*x*y, 8*x**2]])"
   ],
   "outputs": [],
   "execution_count": 155
  },
  {
   "cell_type": "code",
   "id": "efb4f5b5-0576-4122-98ec-8ce906caf745",
   "metadata": {
    "ExecuteTime": {
     "end_time": "2025-02-02T18:02:53.600959Z",
     "start_time": "2025-02-02T18:02:53.581522Z"
    }
   },
   "source": [
    "# symbolic function definition\n",
    "from sympy.abc import x,y,z\n",
    "vars_f = [x,y]\n",
    "# expr_f = x**4+y**4\n",
    "# expr_f = (x**2-2*x*y+x)**2\n",
    "# expr_f = (x-2)**4+(x-2*y)**2\n",
    "# expr_f = (2*x-y**2)**2+(y-2-x)**2\n",
    "# expr_f = (4*x**2-4*x*y+2*y**2)\n",
    "expr_f = (1/2*x**2+(y/2-1)**2+2*x+2*y+6)\n",
    "\n",
    "# vars_f = [x,y,z]\n",
    "# expr_f = x**2 + y**2 + z**2\n",
    "\n",
    "expr_grad = [sp.diff(expr_f, var) for var in vars_f]\n",
    "expr_hessian = [[sp.diff(diff, var) for var in vars_f] for diff in expr_grad]\n",
    "\n",
    "vars_f_str = ','.join([str(var) for var in vars_f])\n",
    "print(f\"f({vars_f_str}) = {expr_f}\")\n",
    "print()\n",
    "print(f\"∇f({vars_f_str}) = \\n{np.matrix(expr_grad).T}\")\n",
    "print()\n",
    "print(f\"H_f({vars_f_str}) = \\n{np.matrix(expr_hessian)}\")\n",
    "\n",
    "f_x_ = sp.lambdify(vars_f, expr_f)\n",
    "grad_f_ = [sp.lambdify(vars_f, expr) for expr in expr_grad]\n",
    "hessian_f_ = [[sp.lambdify(vars_f, expr) for expr in exprs] for exprs in expr_hessian]\n",
    "\n",
    "def f_x(vec):\n",
    "    return f_x_(*np.array(vec).ravel())\n",
    "\n",
    "def grad_f(vec):\n",
    "    return np.matrix([func(*np.array(vec).ravel()) for func in grad_f_]).T\n",
    "\n",
    "def hessian_f(vec):\n",
    "    return np.matrix([[func(*np.array(vec).ravel()) for func in funcs] for funcs in hessian_f_])"
   ],
   "outputs": [
    {
     "name": "stdout",
     "output_type": "stream",
     "text": [
      "f(x,y) = 0.5*x**2 + 2*x + 2*y + (y/2 - 1)**2 + 6\n",
      "\n",
      "∇f(x,y) = \n",
      "[[1.0*x + 2]\n",
      " [y/2 + 1]]\n",
      "\n",
      "H_f(x,y) = \n",
      "[[1.00000000000000 0]\n",
      " [0 1/2]]\n"
     ]
    }
   ],
   "execution_count": 156
  },
  {
   "cell_type": "markdown",
   "id": "b8e3dbb0-c48a-4f97-bec1-94ae41623773",
   "metadata": {},
   "source": [
    "### Variable Definition"
   ]
  },
  {
   "cell_type": "code",
   "id": "c4ec0002-3a5d-4531-aba2-aed87eab1b1e",
   "metadata": {
    "ExecuteTime": {
     "end_time": "2025-02-02T18:02:53.618119Z",
     "start_time": "2025-02-02T18:02:53.606498Z"
    }
   },
   "source": [
    "# initialize variables\n",
    "x_0 = np.array(sp.Matrix([1,2]))\n",
    "\n",
    "grad_0 = grad_f(x_0)\n",
    "A_0 = hessian_f(x_0)\n",
    "\n",
    "A_0_inv = np.matrix(sp.Matrix(A_0).inv())\n",
    "\n",
    "print(f\"f(x_0) = {f_x(x_0)}\\n\")\n",
    "print(f\"∇f(x_0) = \\n{grad_0}\\n\")\n",
    "print(f\"A_0 = \\n{A_0}\\n\")\n",
    "print(f\"A_0_inv = (rational/exact)\\n{A_0_inv}\\n\\n{A_0_inv.astype(float)}\")"
   ],
   "outputs": [
    {
     "name": "stdout",
     "output_type": "stream",
     "text": [
      "f(x_0) = 12.5000000000000\n",
      "\n",
      "∇f(x_0) = \n",
      "[[3.00000000000000]\n",
      " [2.00000000000000]]\n",
      "\n",
      "A_0 = \n",
      "[[1.  0. ]\n",
      " [0.  0.5]]\n",
      "\n",
      "A_0_inv = (rational/exact)\n",
      "[[1.00000000000000 0]\n",
      " [0 2.00000000000000]]\n",
      "\n",
      "[[1. 0.]\n",
      " [0. 2.]]\n"
     ]
    }
   ],
   "execution_count": 157
  },
  {
   "cell_type": "markdown",
   "id": "ecdb98f9-ae04-4380-a5e7-ea9185d5a440",
   "metadata": {
    "tags": []
   },
   "source": [
    "### Gradient Descent"
   ]
  },
  {
   "cell_type": "code",
   "id": "965ea013-d35d-4b75-8560-b0b7e9b12ae7",
   "metadata": {
    "ExecuteTime": {
     "end_time": "2025-02-02T18:02:53.627707Z",
     "start_time": "2025-02-02T18:02:53.624132Z"
    }
   },
   "source": [
    "def find_beta(x_0, beta_val_init=1, beta_exp_init=1):\n",
    "    beta_val = beta_val_init\n",
    "    beta_exp = beta_exp_init\n",
    "    x_1 = x_0 - beta_val**beta_exp * grad_f(x_0)\n",
    "    print(\"---------------------------------\")\n",
    "    print(f\"β = 1/{beta_val} = {beta_val**beta_exp}\\n\")\n",
    "    print(f\"x_1:\\n{x_1}\\n\")\n",
    "    print(f\"f(x_1) = {f_x(x_1)}\\n\")\n",
    "\n",
    "    if f_x(x_1) >= f_x(x_0):\n",
    "        beta_exp = -1\n",
    "        while f_x(x_1) >= f_x(x_0):\n",
    "            beta_val *= 2\n",
    "            x_1 = x_0 - beta_val**beta_exp * grad_f(x_0)\n",
    "\n",
    "            print(\"---------------------------------\")\n",
    "            print(f\"β = 1/{beta_val} = {beta_val**beta_exp}\\n\")\n",
    "            print(f\"x_1:\\n{x_1}\\n\")\n",
    "            print(f\"f(x_1) = {f_x(x_1)}\\n\")\n",
    "    else:\n",
    "        while f_x(x_1) < f_x(x_0):\n",
    "            beta_val *= 2\n",
    "            x_1_tmp = x_1\n",
    "            x_1 = x_0 - beta_val**beta_exp * grad_f(x_0)\n",
    "\n",
    "            if f_x(x_1) < f_x(x_0):\n",
    "                print(f\"β = {beta_val}\\n\")\n",
    "                print(f\"x_1:\\n{x_1}\\n\")\n",
    "                print(f\"f(x_1) = {f_x(x_1)}\\n\")\n",
    "\n",
    "        x_1 = x_1_tmp\n",
    "    \n",
    "    return beta_val, beta_exp\n",
    "\n",
    "def fit_parabola(x_0, beta_val, beta_exp=1):\n",
    "    beta = beta_val**beta_exp\n",
    "    x_1 = x_0 - beta * grad_f(x_0)\n",
    "    x_2 = x_0 - 2*beta * grad_f(x_0)\n",
    "\n",
    "    print(f\"P(0) = {f_x(x_0)}\")\n",
    "    print(f\"P(β) = {f_x(x_1)}\")\n",
    "    print(f\"P(2β) = {f_x(x_2)}\\n\")\n",
    "\n",
    "    return beta/2*(3*f_x(x_0) - 4*f_x(x_1) + f_x(x_2))/(f_x(x_0) - 2*f_x(x_1) + f_x(x_2))"
   ],
   "outputs": [],
   "execution_count": 158
  },
  {
   "cell_type": "code",
   "id": "1ba398cf-de55-4f4c-ac60-4c108f8c410b",
   "metadata": {
    "ExecuteTime": {
     "end_time": "2025-02-02T18:02:53.644879Z",
     "start_time": "2025-02-02T18:02:53.642091Z"
    }
   },
   "source": [
    "beta_val, beta_exp = find_beta(x_0, 1, 1)\n",
    "x_1 = x_0 - beta_val**beta_exp * grad_f(x_0)"
   ],
   "outputs": [
    {
     "name": "stdout",
     "output_type": "stream",
     "text": [
      "---------------------------------\n",
      "β = 1/1 = 1\n",
      "\n",
      "x_1:\n",
      "[[-2.00000000000000]\n",
      " [0]]\n",
      "\n",
      "f(x_1) = 5.00000000000000\n",
      "\n",
      "β = 2\n",
      "\n",
      "x_1:\n",
      "[[-5.00000000000000]\n",
      " [-2.00000000000000]]\n",
      "\n",
      "f(x_1) = 8.50000000000000\n",
      "\n"
     ]
    }
   ],
   "execution_count": 159
  },
  {
   "cell_type": "code",
   "id": "7ae4bd95-dff0-4e4a-917e-3932fefdb76d",
   "metadata": {
    "ExecuteTime": {
     "end_time": "2025-02-02T18:02:53.671283Z",
     "start_time": "2025-02-02T18:02:53.667596Z"
    }
   },
   "source": [
    "beta_star = fit_parabola(x_0, beta_val, beta_exp)\n",
    "x_1_star = x_0 - beta_star * grad_f(x_0)\n",
    "\n",
    "print(f\"β* = {beta_star}\\n\")\n",
    "print(f\"x_1:\\n{x_1_star}\\n\")\n",
    "print(f\"β : f(x_1) = {f_x(x_1)}\")\n",
    "print(f\"β*: f(x_1) = {f_x(x_1_star)}\")\n",
    "print()\n",
    "\n",
    "if f_x(x_1_star) < f_x(x_1):\n",
    "    print(f\"choosing β* = {beta_star}\")\n",
    "else:\n",
    "    print(f\"--> choosing β = {beta}\")"
   ],
   "outputs": [
    {
     "name": "stdout",
     "output_type": "stream",
     "text": [
      "P(0) = 12.5000000000000\n",
      "P(β) = 48.5000000000000\n",
      "P(2β) = 260.500000000000\n",
      "\n",
      "β* = 1.18181818181818\n",
      "\n",
      "x_1:\n",
      "[[-2.54545454545455]\n",
      " [-0.363636363636364]]\n",
      "\n",
      "β : f(x_1) = 48.5000000000000\n",
      "β*: f(x_1) = 4.81818181818182\n",
      "\n",
      "choosing β* = 1.18181818181818\n"
     ]
    }
   ],
   "execution_count": 160
  },
  {
   "cell_type": "markdown",
   "id": "aa55c3d5-3ac0-4711-9701-4b3b211d81ab",
   "metadata": {
    "tags": []
   },
   "source": [
    "### Newton's Method"
   ]
  },
  {
   "cell_type": "code",
   "id": "29fa50b8-e0ca-49c9-9f0f-b24c99caf6de",
   "metadata": {
    "ExecuteTime": {
     "end_time": "2025-02-02T18:02:53.701249Z",
     "start_time": "2025-02-02T18:02:53.699319Z"
    }
   },
   "source": [
    "def newton(A_inv, x, grad):\n",
    "    return x - A_inv * grad"
   ],
   "outputs": [],
   "execution_count": 161
  },
  {
   "cell_type": "code",
   "id": "e05c7c1e-5eb9-4b22-a69a-4e98f91179c4",
   "metadata": {
    "ExecuteTime": {
     "end_time": "2025-02-02T18:02:53.721620Z",
     "start_time": "2025-02-02T18:02:53.719295Z"
    }
   },
   "source": [
    "x_1 = newton(A_0_inv, x_0, grad_0)\n",
    "print(f\"x_1 = (rational/exact)\\n{x_1}\\n\\n{x_1.astype(float)}\\n\")\n",
    "print(f\"f(x_1) = {float(f_x(x_1))}\")"
   ],
   "outputs": [
    {
     "name": "stdout",
     "output_type": "stream",
     "text": [
      "x_1 = (rational/exact)\n",
      "[[-2.00000000000000]\n",
      " [-2.00000000000000]]\n",
      "\n",
      "[[-2.]\n",
      " [-2.]]\n",
      "\n",
      "f(x_1) = 4.0\n"
     ]
    }
   ],
   "execution_count": 162
  },
  {
   "cell_type": "markdown",
   "id": "7682b73a-f8e8-4034-a7c1-82ef1838692c",
   "metadata": {
    "tags": []
   },
   "source": [
    "### Broyden's Method"
   ]
  },
  {
   "cell_type": "code",
   "id": "1703091e-de20-436e-9dda-f2fdb33f293c",
   "metadata": {
    "ExecuteTime": {
     "end_time": "2025-02-02T18:02:53.742943Z",
     "start_time": "2025-02-02T18:02:53.741294Z"
    }
   },
   "source": [
    "def broyden(A_inv, g, d):\n",
    "    return A_inv - ((A_inv * g - d) * d.T * A_inv) / (d.T * A_inv *g)"
   ],
   "outputs": [],
   "execution_count": 163
  },
  {
   "metadata": {
    "ExecuteTime": {
     "end_time": "2025-02-02T18:02:53.757826Z",
     "start_time": "2025-02-02T18:02:53.754180Z"
    }
   },
   "cell_type": "code",
   "source": [
    "# local broyden\n",
    "_A_0_inv = np.matrix([[5,0],[0,2]])\n",
    "_g = np.matrix([-1,1]).T\n",
    "_d = np.matrix([-5,0]).T\n",
    "broyden(_A_0_inv, _g, _d)\n"
   ],
   "id": "c2630d2591d303ec",
   "outputs": [
    {
     "data": {
      "text/plain": [
       "matrix([[5., 0.],\n",
       "        [2., 2.]])"
      ]
     },
     "execution_count": 164,
     "metadata": {},
     "output_type": "execute_result"
    }
   ],
   "execution_count": 164
  },
  {
   "cell_type": "code",
   "id": "ded69371-98c4-4b29-9167-4630814c6acf",
   "metadata": {
    "ExecuteTime": {
     "end_time": "2025-02-02T18:02:53.779233Z",
     "start_time": "2025-02-02T18:02:53.773005Z"
    }
   },
   "source": [
    "x_prev = x_0\n",
    "A_inv_tmp = A_0_inv\n",
    "for i in range(3):\n",
    "    x_new = newton(A_inv_tmp, x_prev, grad_f(x_prev))\n",
    "    print(\"---------------------------------\")\n",
    "    print(f\"x_{i+1} = (rational/exact)\\n{x_new}\\n\\n{x_new.astype(float)}\\n\")\n",
    "    print(f\"f(x_{i+1}) = {float(f_x(x_new))}\\n\")\n",
    "    \n",
    "    g = grad_f(x_new) - grad_f(x_prev)\n",
    "    d = x_new - x_prev\n",
    "\n",
    "    A_inv_tmp = broyden(A_inv_tmp, g, d)\n",
    "    \n",
    "    print(f\"g_{i+1} = (rational/exact)\\n{g}\\n\\n{g.astype(float)}\\n\")\n",
    "    print(f\"d_{i+1} = (rational/exact)\\n{d}\\n\\n{d.astype(float)}\\n\")\n",
    "    print(f\"A_{i+1}_inv = (rational/exact)\\n{A_inv_tmp}\\n\\n{A_inv_tmp.astype(float)}\\n\")\n",
    "    \n",
    "    x_prev = x_new"
   ],
   "outputs": [
    {
     "name": "stdout",
     "output_type": "stream",
     "text": [
      "---------------------------------\n",
      "x_1 = (rational/exact)\n",
      "[[-2.00000000000000]\n",
      " [-2.00000000000000]]\n",
      "\n",
      "[[-2.]\n",
      " [-2.]]\n",
      "\n",
      "f(x_1) = 4.0\n",
      "\n",
      "g_1 = (rational/exact)\n",
      "[[-3.00000000000000]\n",
      " [-2.00000000000000]]\n",
      "\n",
      "[[-3.]\n",
      " [-2.]]\n",
      "\n",
      "d_1 = (rational/exact)\n",
      "[[-3.00000000000000]\n",
      " [-4.00000000000000]]\n",
      "\n",
      "[[-3.]\n",
      " [-4.]]\n",
      "\n",
      "A_1_inv = (rational/exact)\n",
      "[[1.00000000000000 0]\n",
      " [0 2.00000000000000]]\n",
      "\n",
      "[[1. 0.]\n",
      " [0. 2.]]\n",
      "\n",
      "---------------------------------\n",
      "x_2 = (rational/exact)\n",
      "[[-2.00000000000000]\n",
      " [-2.00000000000000]]\n",
      "\n",
      "[[-2.]\n",
      " [-2.]]\n",
      "\n",
      "f(x_2) = 4.0\n",
      "\n",
      "g_2 = (rational/exact)\n",
      "[[0]\n",
      " [0]]\n",
      "\n",
      "[[0.]\n",
      " [0.]]\n",
      "\n",
      "d_2 = (rational/exact)\n",
      "[[0]\n",
      " [0]]\n",
      "\n",
      "[[0.]\n",
      " [0.]]\n",
      "\n",
      "A_2_inv = (rational/exact)\n",
      "[[nan nan]\n",
      " [nan nan]]\n",
      "\n",
      "[[nan nan]\n",
      " [nan nan]]\n",
      "\n",
      "---------------------------------\n",
      "x_3 = (rational/exact)\n",
      "[[nan]\n",
      " [nan]]\n",
      "\n",
      "[[nan]\n",
      " [nan]]\n",
      "\n",
      "f(x_3) = nan\n",
      "\n",
      "g_3 = (rational/exact)\n",
      "[[nan]\n",
      " [nan]]\n",
      "\n",
      "[[nan]\n",
      " [nan]]\n",
      "\n",
      "d_3 = (rational/exact)\n",
      "[[nan]\n",
      " [nan]]\n",
      "\n",
      "[[nan]\n",
      " [nan]]\n",
      "\n",
      "A_3_inv = (rational/exact)\n",
      "[[nan nan]\n",
      " [nan nan]]\n",
      "\n",
      "[[nan nan]\n",
      " [nan nan]]\n",
      "\n"
     ]
    },
    {
     "name": "stderr",
     "output_type": "stream",
     "text": [
      "/var/folders/ft/p6xwtlq12ygfhmnytl1ngxdm0000gn/T/ipykernel_24815/3602861214.py:16: RuntimeWarning: invalid value encountered in cast\n",
      "  print(f\"A_{i+1}_inv = (rational/exact)\\n{A_inv_tmp}\\n\\n{A_inv_tmp.astype(float)}\\n\")\n",
      "/var/folders/ft/p6xwtlq12ygfhmnytl1ngxdm0000gn/T/ipykernel_24815/3602861214.py:6: RuntimeWarning: invalid value encountered in cast\n",
      "  print(f\"x_{i+1} = (rational/exact)\\n{x_new}\\n\\n{x_new.astype(float)}\\n\")\n",
      "/var/folders/ft/p6xwtlq12ygfhmnytl1ngxdm0000gn/T/ipykernel_24815/3602861214.py:14: RuntimeWarning: invalid value encountered in cast\n",
      "  print(f\"g_{i+1} = (rational/exact)\\n{g}\\n\\n{g.astype(float)}\\n\")\n",
      "/var/folders/ft/p6xwtlq12ygfhmnytl1ngxdm0000gn/T/ipykernel_24815/3602861214.py:15: RuntimeWarning: invalid value encountered in cast\n",
      "  print(f\"d_{i+1} = (rational/exact)\\n{d}\\n\\n{d.astype(float)}\\n\")\n"
     ]
    }
   ],
   "execution_count": 165
  },
  {
   "cell_type": "markdown",
   "id": "cf3492b7-7854-4417-99d3-7e098678e30c",
   "metadata": {},
   "source": [
    "### Aitken's Acceleration Method"
   ]
  },
  {
   "cell_type": "code",
   "id": "2e1b99f0-405b-43a5-a1a9-f5236f2864fc",
   "metadata": {
    "ExecuteTime": {
     "end_time": "2025-02-02T18:02:53.796389Z",
     "start_time": "2025-02-02T18:02:53.794476Z"
    }
   },
   "source": [
    "def aitken(x_0, x_1, x_2):\n",
    "    return x_2 - np.divide(np.power(x_2 - x_1, 2), (x_2-2*x_1 + x_0))"
   ],
   "outputs": [],
   "execution_count": 166
  },
  {
   "cell_type": "code",
   "id": "34a917e0-d908-46b2-8730-df874c1392a7",
   "metadata": {
    "ExecuteTime": {
     "end_time": "2025-02-02T18:02:53.815972Z",
     "start_time": "2025-02-02T18:02:53.814191Z"
    }
   },
   "source": [
    "print(f\"y_2 = {aitken(100, 10, 2)}\")\n",
    "print(f\"y_2 = {aitken(10, 2, .5)}\")"
   ],
   "outputs": [
    {
     "name": "stdout",
     "output_type": "stream",
     "text": [
      "y_2 = 1.2195121951219512\n",
      "y_2 = 0.15384615384615385\n"
     ]
    }
   ],
   "execution_count": 167
  },
  {
   "cell_type": "code",
   "id": "ee1306a6-75ad-4d93-a956-8cbadedc99e2",
   "metadata": {
    "ExecuteTime": {
     "end_time": "2025-02-02T18:02:53.838440Z",
     "start_time": "2025-02-02T18:02:53.834255Z"
    }
   },
   "source": [
    "x_prev = x_0\n",
    "x_aitken = [x_0]\n",
    "A_inv_tmp = A_0_inv\n",
    "for i in range(3):\n",
    "    x_new = newton(A_inv_tmp, x_prev, grad_f(x_prev))\n",
    "    x_aitken.append(x_new)\n",
    "    \n",
    "    if len(x_aitken) >= 3:\n",
    "        del x_aitken[:-3]\n",
    "        x_new = aitken(*x_aitken)\n",
    "    \n",
    "    print(\"---------------------------------\")\n",
    "    print(f\"x_{i+1} = (rational/exact)\\n{x_new}\\n\\n{x_new.astype(float)}\\n\")\n",
    "    print(f\"f(x_{i+1}) = {float(f_x(x_new))}\")\n",
    "    \n",
    "    g = grad_f(x_new) - grad_f(x_prev)\n",
    "    d = x_new - x_prev\n",
    "\n",
    "    A_inv_tmp = broyden(A_inv_tmp, g, d)\n",
    "    \n",
    "    print(f\"g_{i+1} = (rational/exact)\\n{g}\\n\\n{g.astype(float)}\\n\")\n",
    "    print(f\"d_{i+1} = (rational/exact)\\n{d}\\n\\n{d.astype(float)}\\n\")\n",
    "    print(f\"A_{i+1}_inv = (rational/exact)\\n{A_inv_tmp}\\n\\n{A_inv_tmp.astype(float)}\\n\")\n",
    "    \n",
    "    x_prev = x_new"
   ],
   "outputs": [
    {
     "name": "stdout",
     "output_type": "stream",
     "text": [
      "---------------------------------\n",
      "x_1 = (rational/exact)\n",
      "[[-2.00000000000000]\n",
      " [-2.00000000000000]]\n",
      "\n",
      "[[-2.]\n",
      " [-2.]]\n",
      "\n",
      "f(x_1) = 4.0\n",
      "g_1 = (rational/exact)\n",
      "[[-3.00000000000000]\n",
      " [-2.00000000000000]]\n",
      "\n",
      "[[-3.]\n",
      " [-2.]]\n",
      "\n",
      "d_1 = (rational/exact)\n",
      "[[-3.00000000000000]\n",
      " [-4.00000000000000]]\n",
      "\n",
      "[[-3.]\n",
      " [-4.]]\n",
      "\n",
      "A_1_inv = (rational/exact)\n",
      "[[1.00000000000000 0]\n",
      " [0 2.00000000000000]]\n",
      "\n",
      "[[1. 0.]\n",
      " [0. 2.]]\n",
      "\n",
      "---------------------------------\n",
      "x_2 = (rational/exact)\n",
      "[[-2.00000000000000]\n",
      " [-2.00000000000000]]\n",
      "\n",
      "[[-2.]\n",
      " [-2.]]\n",
      "\n",
      "f(x_2) = 4.0\n",
      "g_2 = (rational/exact)\n",
      "[[0]\n",
      " [0]]\n",
      "\n",
      "[[0.]\n",
      " [0.]]\n",
      "\n",
      "d_2 = (rational/exact)\n",
      "[[0]\n",
      " [0]]\n",
      "\n",
      "[[0.]\n",
      " [0.]]\n",
      "\n",
      "A_2_inv = (rational/exact)\n",
      "[[nan nan]\n",
      " [nan nan]]\n",
      "\n",
      "[[nan nan]\n",
      " [nan nan]]\n",
      "\n",
      "---------------------------------\n",
      "x_3 = (rational/exact)\n",
      "[[nan]\n",
      " [nan]]\n",
      "\n",
      "[[nan]\n",
      " [nan]]\n",
      "\n",
      "f(x_3) = nan\n",
      "g_3 = (rational/exact)\n",
      "[[nan]\n",
      " [nan]]\n",
      "\n",
      "[[nan]\n",
      " [nan]]\n",
      "\n",
      "d_3 = (rational/exact)\n",
      "[[nan]\n",
      " [nan]]\n",
      "\n",
      "[[nan]\n",
      " [nan]]\n",
      "\n",
      "A_3_inv = (rational/exact)\n",
      "[[nan nan]\n",
      " [nan nan]]\n",
      "\n",
      "[[nan nan]\n",
      " [nan nan]]\n",
      "\n"
     ]
    },
    {
     "name": "stderr",
     "output_type": "stream",
     "text": [
      "/var/folders/ft/p6xwtlq12ygfhmnytl1ngxdm0000gn/T/ipykernel_24815/3787881117.py:23: RuntimeWarning: invalid value encountered in cast\n",
      "  print(f\"A_{i+1}_inv = (rational/exact)\\n{A_inv_tmp}\\n\\n{A_inv_tmp.astype(float)}\\n\")\n",
      "/var/folders/ft/p6xwtlq12ygfhmnytl1ngxdm0000gn/T/ipykernel_24815/3787881117.py:13: RuntimeWarning: invalid value encountered in cast\n",
      "  print(f\"x_{i+1} = (rational/exact)\\n{x_new}\\n\\n{x_new.astype(float)}\\n\")\n",
      "/var/folders/ft/p6xwtlq12ygfhmnytl1ngxdm0000gn/T/ipykernel_24815/3787881117.py:21: RuntimeWarning: invalid value encountered in cast\n",
      "  print(f\"g_{i+1} = (rational/exact)\\n{g}\\n\\n{g.astype(float)}\\n\")\n",
      "/var/folders/ft/p6xwtlq12ygfhmnytl1ngxdm0000gn/T/ipykernel_24815/3787881117.py:22: RuntimeWarning: invalid value encountered in cast\n",
      "  print(f\"d_{i+1} = (rational/exact)\\n{d}\\n\\n{d.astype(float)}\\n\")\n"
     ]
    }
   ],
   "execution_count": 168
  },
  {
   "cell_type": "markdown",
   "id": "64cd2685-5eaa-4677-93c0-47a2ea31d486",
   "metadata": {},
   "source": [
    "## Undirected Graph Algorithms"
   ]
  },
  {
   "cell_type": "markdown",
   "id": "117d9e2e-ef96-49e6-8674-a5f6a90fd7e9",
   "metadata": {},
   "source": [
    "### Variable Definition"
   ]
  },
  {
   "cell_type": "code",
   "id": "60f5d8f2-149b-4227-9be7-df034361748d",
   "metadata": {
    "ExecuteTime": {
     "end_time": "2025-02-02T18:02:53.853212Z",
     "start_time": "2025-02-02T18:02:53.851048Z"
    }
   },
   "source": [
    "# adjacency matrix (undirected)\n",
    "A = np.array(np.zeros((6,6)))\n",
    "A[0,0:] = [0,200,580,np.nan,250,1200]\n",
    "A[1,1:] = [0,500,820,np.nan,np.nan]\n",
    "A[2,2:] = [0,230,150,1100]\n",
    "A[3,3:] = [0,380,np.nan]\n",
    "A[4,4:] = [0,np.nan]\n",
    "A[5,5:] = [0]\n",
    "\n",
    "for i in range(A.shape[0]):\n",
    "    A[i:,i] = A[i,i:].T\n",
    "\n",
    "n_vertices = A.shape[1]\n",
    "vertices = [\"A\", \"B\", \"C\", \"D\", \"E\", \"F\"]"
   ],
   "outputs": [],
   "execution_count": 169
  },
  {
   "cell_type": "code",
   "id": "789c0f03-9be5-4090-a3ca-b2fcbe8ee4b5",
   "metadata": {
    "ExecuteTime": {
     "end_time": "2025-02-02T18:02:53.871140Z",
     "start_time": "2025-02-02T18:02:53.869037Z"
    }
   },
   "source": [
    "# adjacency matrix (undirected)\n",
    "A = np.array(np.zeros((6,6)))\n",
    "A[0,0:] = [0,60,160,np.nan,700,600]\n",
    "A[1,1:] = [0,220,140,np.nan,800]\n",
    "A[2,2:] = [0,20,900,500]\n",
    "A[3,3:] = [0,800,300]\n",
    "A[4,4:] = [0,40]\n",
    "A[5,5:] = [0]\n",
    "\n",
    "for i in range(A.shape[0]):\n",
    "    A[i:,i] = A[i,i:].T\n",
    "\n",
    "n_vertices = A.shape[1]\n",
    "vertices = [\"A\", \"B\", \"C\", \"D\", \"E\", \"F\"]"
   ],
   "outputs": [],
   "execution_count": 170
  },
  {
   "cell_type": "code",
   "id": "00c6b428-d6f1-44eb-bd91-d1c23fff46f8",
   "metadata": {
    "ExecuteTime": {
     "end_time": "2025-02-02T18:02:53.876025Z",
     "start_time": "2025-02-02T18:02:53.874109Z"
    }
   },
   "source": [
    "# adjacency matrix (directed)\n",
    "A = np.array(np.zeros((7,7)))\n",
    "A[0] = [0,1,0,1,0,0,0]\n",
    "A[1] = [0,0,1,0,0,1,0]\n",
    "A[2] = [0,0,0,0,1,0,0]\n",
    "A[3] = [0,1,0,0,0,0,0]\n",
    "A[4] = [0,0,0,0,0,0,1]\n",
    "A[5] = [1,0,0,1,0,0,0]\n",
    "A[6] = [0,0,1,0,0,0,0]\n",
    "\n",
    "A[A==0] = np.nan\n",
    "\n",
    "n_vertices = A.shape[1]\n",
    "vertices = [\"A\", \"B\", \"C\", \"D\", \"E\", \"F\", \"G\"]"
   ],
   "outputs": [],
   "execution_count": 171
  },
  {
   "metadata": {
    "ExecuteTime": {
     "end_time": "2025-02-02T18:02:53.879480Z",
     "start_time": "2025-02-02T18:02:53.877615Z"
    }
   },
   "cell_type": "code",
   "source": [
    "# adjacency matrix (undirected)\n",
    "A = np.array(np.zeros((6,6)))\n",
    "A[0,0:] = [0,3,np.nan,6,9,np.nan]\n",
    "A[1,1:] = [0,1,3,np.nan,2]\n",
    "A[2,2:] = [0,1,4,4]\n",
    "A[3,3:] = [0,2,np.nan]\n",
    "A[4,4:] = [0,7]\n",
    "A[5,5:] = [0]\n",
    "\n",
    "\n",
    "for i in range(A.shape[0]):\n",
    "    A[i:,i] = A[i,i:].T\n",
    "\n",
    "n_vertices = A.shape[1]\n",
    "vertices = [\"1\", \"2\", \"3\", \"4\", \"5\", \"7\"]"
   ],
   "id": "fe52b447924f28f",
   "outputs": [],
   "execution_count": 172
  },
  {
   "cell_type": "code",
   "id": "a32191ca-34ff-4abe-b369-fbd3952e0f6b",
   "metadata": {
    "ExecuteTime": {
     "end_time": "2025-02-02T18:02:53.884282Z",
     "start_time": "2025-02-02T18:02:53.882413Z"
    }
   },
   "source": [
    "A"
   ],
   "outputs": [
    {
     "data": {
      "text/plain": [
       "array([[ 0.,  3., nan,  6.,  9., nan],\n",
       "       [ 3.,  0.,  1.,  3., nan,  2.],\n",
       "       [nan,  1.,  0.,  1.,  4.,  4.],\n",
       "       [ 6.,  3.,  1.,  0.,  2., nan],\n",
       "       [ 9., nan,  4.,  2.,  0.,  7.],\n",
       "       [nan,  2.,  4., nan,  7.,  0.]])"
      ]
     },
     "execution_count": 173,
     "metadata": {},
     "output_type": "execute_result"
    }
   ],
   "execution_count": 173
  },
  {
   "cell_type": "markdown",
   "id": "01bbb611-1f63-4079-9b0c-e52c8ea0d1e2",
   "metadata": {},
   "source": [
    "### Minimal Spanning Tree\n",
    "#### Depth-First-Search"
   ]
  },
  {
   "cell_type": "code",
   "id": "6f1353fa-853e-4d2c-8213-993d2c4b67e0",
   "metadata": {
    "ExecuteTime": {
     "end_time": "2025-02-02T18:02:53.984451Z",
     "start_time": "2025-02-02T18:02:53.981045Z"
    }
   },
   "source": [
    "n_vertices = A.shape[1]\n",
    "\n",
    "idx = 0\n",
    "stack = []\n",
    "output = []\n",
    "\n",
    "while True:\n",
    "    neighbors = np.arange(n_vertices, dtype=float)\n",
    "    neighbors[np.isnan(A[idx])] = np.nan\n",
    "    \n",
    "    mask = np.zeros(len(neighbors), dtype=bool)\n",
    "    mask[idx] = True\n",
    "    mask[stack] = True\n",
    "    mask[output] = True\n",
    "    next_vertices = np.ma.MaskedArray(neighbors, mask)\n",
    "    \n",
    "    if np.any(np.isfinite(next_vertices)):\n",
    "        stack.append(idx)\n",
    "        idx = np.nanargmin(next_vertices)\n",
    "        print(f\"go to vertex {vertices[idx]}, stack: {[vertices[i] for i in stack]}\")\n",
    "    else:\n",
    "        output.append(idx)\n",
    "        if len(stack) > 0:\n",
    "            idx = stack.pop(-1)\n",
    "            print(f\"iterate back to vertex {vertices[idx]}, stack: {[vertices[i] for i in stack]}\")\n",
    "        else:\n",
    "            break\n",
    "\n",
    "print()\n",
    "print(f\"indices : {output}\")\n",
    "print(f\"sequence: {[vertices[idx] for idx in output]}\")"
   ],
   "outputs": [
    {
     "name": "stdout",
     "output_type": "stream",
     "text": [
      "go to vertex 2, stack: ['1']\n",
      "go to vertex 3, stack: ['1', '2']\n",
      "go to vertex 4, stack: ['1', '2', '3']\n",
      "go to vertex 5, stack: ['1', '2', '3', '4']\n",
      "go to vertex 7, stack: ['1', '2', '3', '4', '5']\n",
      "iterate back to vertex 5, stack: ['1', '2', '3', '4']\n",
      "iterate back to vertex 4, stack: ['1', '2', '3']\n",
      "iterate back to vertex 3, stack: ['1', '2']\n",
      "iterate back to vertex 2, stack: ['1']\n",
      "iterate back to vertex 1, stack: []\n",
      "\n",
      "indices : [5, 4, 3, 2, 1, 0]\n",
      "sequence: ['7', '5', '4', '3', '2', '1']\n"
     ]
    }
   ],
   "execution_count": 174
  },
  {
   "cell_type": "markdown",
   "id": "f0d23dc1-7e21-494a-8037-667ca9b73379",
   "metadata": {},
   "source": [
    "#### Breath-Fisrt-Search"
   ]
  },
  {
   "cell_type": "code",
   "id": "5eefa0db-9a6f-4ea7-9354-057fe4af059f",
   "metadata": {
    "ExecuteTime": {
     "end_time": "2025-02-02T18:02:54.016316Z",
     "start_time": "2025-02-02T18:02:54.011023Z"
    }
   },
   "source": [
    "idx = 0\n",
    "stack = []\n",
    "output = []\n",
    "\n",
    "while True:\n",
    "    neighbors = np.arange(n_vertices, dtype=float)\n",
    "    neighbors[np.isnan(A[idx])] = np.nan\n",
    "    \n",
    "    mask = np.zeros(len(neighbors), dtype=bool)\n",
    "    mask[idx] = True\n",
    "    mask[stack] = True\n",
    "    mask[output] = True\n",
    "    next_vertices = np.ma.MaskedArray(neighbors, mask)\n",
    "    \n",
    "    if np.any(np.isfinite(next_vertices)):\n",
    "        stack.append(np.nanargmin(next_vertices))\n",
    "        print(f\"update stack: {[vertices[i] for i in stack]}\")\n",
    "    else:\n",
    "        output.append(idx)\n",
    "        if len(stack) > 0:\n",
    "            idx = stack.pop(0)\n",
    "            print(f\"go to vertex {vertices[idx]}, stack: {[vertices[i] for i in stack]}\")\n",
    "        else:\n",
    "            break\n",
    "\n",
    "print()\n",
    "print(f\"indices : {output}\")\n",
    "print(f\"sequence: {[vertices[idx] for idx in output]}\")"
   ],
   "outputs": [
    {
     "name": "stdout",
     "output_type": "stream",
     "text": [
      "update stack: ['2']\n",
      "update stack: ['2', '4']\n",
      "update stack: ['2', '4', '5']\n",
      "go to vertex 2, stack: ['4', '5']\n",
      "update stack: ['4', '5', '3']\n",
      "update stack: ['4', '5', '3', '7']\n",
      "go to vertex 4, stack: ['5', '3', '7']\n",
      "go to vertex 5, stack: ['3', '7']\n",
      "go to vertex 3, stack: ['7']\n",
      "go to vertex 7, stack: []\n",
      "\n",
      "indices : [0, 1, 3, 4, 2, 5]\n",
      "sequence: ['1', '2', '4', '5', '3', '7']\n"
     ]
    }
   ],
   "execution_count": 175
  },
  {
   "cell_type": "markdown",
   "id": "ec2f028b-bd60-4bf6-9b3e-834ae7523c34",
   "metadata": {},
   "source": [
    "### Prim's Algorithm"
   ]
  },
  {
   "cell_type": "code",
   "id": "4e6b9512-cfbe-49a1-997b-559adf50aaf1",
   "metadata": {
    "ExecuteTime": {
     "end_time": "2025-02-02T18:02:54.048278Z",
     "start_time": "2025-02-02T18:02:54.044809Z"
    }
   },
   "source": [
    "n_vertices = A.shape[1]\n",
    "\n",
    "idx = 0\n",
    "v_stack = [0]\n",
    "e_stack = []\n",
    "\n",
    "for i in range(20):\n",
    "    mask = np.ones(A.shape, dtype=bool)\n",
    "    for v_1 in v_stack:\n",
    "        mask[v_1,:] = False\n",
    "        for v_2 in v_stack:\n",
    "            mask[v_1,v_2] = True\n",
    "\n",
    "    next_vertices = np.ma.MaskedArray(A, mask)\n",
    "\n",
    "    if np.any(np.isfinite(next_vertices)):\n",
    "        stack.append(idx)\n",
    "        e = np.sort(np.unravel_index(np.nanargmin(next_vertices), A.shape))\n",
    "        \n",
    "        for v in e:\n",
    "            if v not in v_stack:\n",
    "                v_stack.append(v)\n",
    "        e_stack.append(e)\n",
    "        print(f\"selected edge: {vertices[e[0]]}{vertices[e[1]]}\")\n",
    "    else:\n",
    "        break\n",
    "\n",
    "weight = 0\n",
    "for e in e_stack:\n",
    "    weight += A[e[0],e[1]]\n",
    "\n",
    "print(f\"total minimal weight: {weight}\")"
   ],
   "outputs": [
    {
     "name": "stdout",
     "output_type": "stream",
     "text": [
      "selected edge: 12\n",
      "selected edge: 23\n",
      "selected edge: 34\n",
      "selected edge: 27\n",
      "selected edge: 45\n",
      "total minimal weight: 9.0\n"
     ]
    }
   ],
   "execution_count": 176
  },
  {
   "cell_type": "markdown",
   "id": "3cdc5bcc-2145-4e25-8d78-1bd4ca3c7b10",
   "metadata": {},
   "source": [
    "### Dijkstra's Algorithm"
   ]
  },
  {
   "cell_type": "code",
   "id": "87273e8d-0a97-41c3-9fbc-6711e4afc346",
   "metadata": {
    "ExecuteTime": {
     "end_time": "2025-02-02T18:02:54.067501Z",
     "start_time": "2025-02-02T18:02:54.063460Z"
    }
   },
   "source": [
    "V = [5] # start vertex\n",
    "E = []\n",
    "l = [0]\n",
    "\n",
    "cnt = 1\n",
    "print(f\"{1:2d} | {' ':7s} | {str(V):30s} | {str(E):70s} | {l[-1]:6.1f}\")\n",
    "\n",
    "while True:\n",
    "    mask = np.ones(A.shape, dtype=bool)\n",
    "    for v_1 in V:\n",
    "        mask[v_1,:] = False\n",
    "        for v_2 in V:\n",
    "            mask[v_1,v_2] = True\n",
    "\n",
    "    next_vertices = np.ma.MaskedArray(A, mask)\n",
    "\n",
    "    if np.any(np.isfinite(next_vertices)):\n",
    "        e_stack = []\n",
    "        l_stack = []\n",
    "        for v_1, v_2 in zip(*np.where(np.logical_and(np.isfinite(A), ~mask))):\n",
    "            e_stack.append([v_1,v_2])\n",
    "            \n",
    "            if v_1 in V:\n",
    "                l_stack.append(l[V.index(v_1)] + A[v_1,v_2])\n",
    "            elif v_2 in V:\n",
    "                l_stack.append(l[V.index(v_2)] + A[v_1,v_2])\n",
    "            \n",
    "        next_idx = np.argmin(l_stack)\n",
    "        e = e_stack[next_idx]\n",
    "        e.sort()\n",
    "        E.append(e_stack[next_idx])\n",
    "        l.append(l_stack[next_idx])\n",
    "        \n",
    "        for v in e:\n",
    "            if v not in V:\n",
    "                V.append(v)\n",
    "        \n",
    "        print(f\"{cnt+1:2d} | {str(e):7s} | {str(V):30s} | {str(E):70s} | {l[-1]:6.1f}\")\n",
    "        cnt += 1\n",
    "    else:\n",
    "        break\n",
    "\n",
    "print()\n",
    "print(\"Result\\n-----------------\")\n",
    "for i in range(n_vertices):\n",
    "    print(f\"{i:2d} | {str(vertices[i]):3s} | {l[i]:6.1f}\")"
   ],
   "outputs": [
    {
     "name": "stdout",
     "output_type": "stream",
     "text": [
      " 1 |         | [5]                            | []                                                                     |    0.0\n",
      " 2 | [1, 5]  | [5, 1]                         | [[1, 5]]                                                               |    2.0\n",
      " 3 | [1, 2]  | [5, 1, 2]                      | [[1, 5], [1, 2]]                                                       |    3.0\n",
      " 4 | [2, 3]  | [5, 1, 2, 3]                   | [[1, 5], [1, 2], [2, 3]]                                               |    4.0\n",
      " 5 | [0, 1]  | [5, 1, 2, 3, 0]                | [[1, 5], [1, 2], [2, 3], [0, 1]]                                       |    5.0\n",
      " 6 | [3, 4]  | [5, 1, 2, 3, 0, 4]             | [[1, 5], [1, 2], [2, 3], [0, 1], [3, 4]]                               |    6.0\n",
      "\n",
      "Result\n",
      "-----------------\n",
      " 0 | 1   |    0.0\n",
      " 1 | 2   |    2.0\n",
      " 2 | 3   |    3.0\n",
      " 3 | 4   |    4.0\n",
      " 4 | 5   |    5.0\n",
      " 5 | 7   |    6.0\n"
     ]
    }
   ],
   "execution_count": 177
  },
  {
   "cell_type": "markdown",
   "id": "d02da563-07c8-4217-bda7-41dd354aff9d",
   "metadata": {},
   "source": [
    "### Floyd-Warshall Algorithm"
   ]
  },
  {
   "cell_type": "code",
   "id": "2a22b52b-9cd4-4598-90e3-fb87e9e940d6",
   "metadata": {
    "ExecuteTime": {
     "end_time": "2025-02-02T18:02:54.082367Z",
     "start_time": "2025-02-02T18:02:54.080239Z"
    }
   },
   "source": [
    "def print_matrix(A, mask=None):\n",
    "    if mask is None:\n",
    "        mask = np.ones_like(A, dtype=bool)\n",
    "    print(\"[\", end=\"\")\n",
    "    for i in range(A.shape[0]):\n",
    "        if i > 0:\n",
    "            print(\" \", end=\"\")\n",
    "            \n",
    "        print(\"[\", end=\"\")\n",
    "        for j in range(A.shape[0]):\n",
    "            if mask[i,j]:\n",
    "                print(f\"{float(A[i,j]):6.1f}\", end=\"\")\n",
    "            else:\n",
    "                print(\"  ----\", end=\"\")\n",
    "            \n",
    "            if j < A.shape[1]-1:\n",
    "                print(\" \", end=\"\")\n",
    "        print(\"]\", end=\"\")\n",
    "        if i < A.shape[0]-1:\n",
    "            print()\n",
    "    print(\"]\",)"
   ],
   "outputs": [],
   "execution_count": 178
  },
  {
   "cell_type": "code",
   "id": "4c077dfc-486d-4cdc-8782-d193cbbd95a3",
   "metadata": {
    "ExecuteTime": {
     "end_time": "2025-02-02T18:02:54.092760Z",
     "start_time": "2025-02-02T18:02:54.088048Z"
    }
   },
   "source": [
    "A_FW = A.copy()\n",
    "A_FW[np.isnan(A_FW)] = np.inf\n",
    "\n",
    "vertices = np.arange(A.shape[0])\n",
    "# vertices = np.array([0,3,5])\n",
    "\n",
    "for v in vertices:\n",
    "    A_FW_tmp = A_FW.copy()\n",
    "    \n",
    "    for i in range(A_FW.shape[0]):\n",
    "        for j in range(A_FW.shape[1]):\n",
    "            if i == v or j == v:\n",
    "                continue\n",
    "            \n",
    "            weight = A_FW[i,v] + A_FW[v,j]\n",
    "            if weight < A_FW[i,j]:\n",
    "                A_FW_tmp[i,j] = weight\n",
    "                \n",
    "    \n",
    "    print(f\"{v+1}.\")\n",
    "    print(\"changes:\")\n",
    "    print_matrix(A_FW_tmp, A_FW != A_FW_tmp)\n",
    "    print(\"\\nnew matrix:\")\n",
    "    print_matrix(A_FW_tmp)\n",
    "    print()\n",
    "    \n",
    "    A_FW = A_FW_tmp\n",
    "\n",
    "print(\"Result\\n-----------------\")\n",
    "print(\"changes:\")\n",
    "print_matrix(A_FW, A_FW != A)\n",
    "\n",
    "\n",
    "print(\"\\nnew matrix:\")\n",
    "print_matrix(A_FW)"
   ],
   "outputs": [
    {
     "name": "stdout",
     "output_type": "stream",
     "text": [
      "1.\n",
      "changes:\n",
      "[[  ----   ----   ----   ----   ----   ----]\n",
      " [  ----   ----   ----   ----   12.0   ----]\n",
      " [  ----   ----   ----   ----   ----   ----]\n",
      " [  ----   ----   ----   ----   ----   ----]\n",
      " [  ----   12.0   ----   ----   ----   ----]\n",
      " [  ----   ----   ----   ----   ----   ----]]\n",
      "\n",
      "new matrix:\n",
      "[[   0.0    3.0    inf    6.0    9.0    inf]\n",
      " [   3.0    0.0    1.0    3.0   12.0    2.0]\n",
      " [   inf    1.0    0.0    1.0    4.0    4.0]\n",
      " [   6.0    3.0    1.0    0.0    2.0    inf]\n",
      " [   9.0   12.0    4.0    2.0    0.0    7.0]\n",
      " [   inf    2.0    4.0    inf    7.0    0.0]]\n",
      "\n",
      "2.\n",
      "changes:\n",
      "[[  ----   ----    4.0   ----   ----    5.0]\n",
      " [  ----   ----   ----   ----   ----   ----]\n",
      " [   4.0   ----   ----   ----   ----    3.0]\n",
      " [  ----   ----   ----   ----   ----    5.0]\n",
      " [  ----   ----   ----   ----   ----   ----]\n",
      " [   5.0   ----    3.0    5.0   ----   ----]]\n",
      "\n",
      "new matrix:\n",
      "[[   0.0    3.0    4.0    6.0    9.0    5.0]\n",
      " [   3.0    0.0    1.0    3.0   12.0    2.0]\n",
      " [   4.0    1.0    0.0    1.0    4.0    3.0]\n",
      " [   6.0    3.0    1.0    0.0    2.0    5.0]\n",
      " [   9.0   12.0    4.0    2.0    0.0    7.0]\n",
      " [   5.0    2.0    3.0    5.0    7.0    0.0]]\n",
      "\n",
      "3.\n",
      "changes:\n",
      "[[  ----   ----   ----    5.0    8.0   ----]\n",
      " [  ----   ----   ----    2.0    5.0   ----]\n",
      " [  ----   ----   ----   ----   ----   ----]\n",
      " [   5.0    2.0   ----   ----   ----    4.0]\n",
      " [   8.0    5.0   ----   ----   ----   ----]\n",
      " [  ----   ----   ----    4.0   ----   ----]]\n",
      "\n",
      "new matrix:\n",
      "[[   0.0    3.0    4.0    5.0    8.0    5.0]\n",
      " [   3.0    0.0    1.0    2.0    5.0    2.0]\n",
      " [   4.0    1.0    0.0    1.0    4.0    3.0]\n",
      " [   5.0    2.0    1.0    0.0    2.0    4.0]\n",
      " [   8.0    5.0    4.0    2.0    0.0    7.0]\n",
      " [   5.0    2.0    3.0    4.0    7.0    0.0]]\n",
      "\n",
      "4.\n",
      "changes:\n",
      "[[  ----   ----   ----   ----    7.0   ----]\n",
      " [  ----   ----   ----   ----    4.0   ----]\n",
      " [  ----   ----   ----   ----    3.0   ----]\n",
      " [  ----   ----   ----   ----   ----   ----]\n",
      " [   7.0    4.0    3.0   ----   ----    6.0]\n",
      " [  ----   ----   ----   ----    6.0   ----]]\n",
      "\n",
      "new matrix:\n",
      "[[   0.0    3.0    4.0    5.0    7.0    5.0]\n",
      " [   3.0    0.0    1.0    2.0    4.0    2.0]\n",
      " [   4.0    1.0    0.0    1.0    3.0    3.0]\n",
      " [   5.0    2.0    1.0    0.0    2.0    4.0]\n",
      " [   7.0    4.0    3.0    2.0    0.0    6.0]\n",
      " [   5.0    2.0    3.0    4.0    6.0    0.0]]\n",
      "\n",
      "5.\n",
      "changes:\n",
      "[[  ----   ----   ----   ----   ----   ----]\n",
      " [  ----   ----   ----   ----   ----   ----]\n",
      " [  ----   ----   ----   ----   ----   ----]\n",
      " [  ----   ----   ----   ----   ----   ----]\n",
      " [  ----   ----   ----   ----   ----   ----]\n",
      " [  ----   ----   ----   ----   ----   ----]]\n",
      "\n",
      "new matrix:\n",
      "[[   0.0    3.0    4.0    5.0    7.0    5.0]\n",
      " [   3.0    0.0    1.0    2.0    4.0    2.0]\n",
      " [   4.0    1.0    0.0    1.0    3.0    3.0]\n",
      " [   5.0    2.0    1.0    0.0    2.0    4.0]\n",
      " [   7.0    4.0    3.0    2.0    0.0    6.0]\n",
      " [   5.0    2.0    3.0    4.0    6.0    0.0]]\n",
      "\n",
      "6.\n",
      "changes:\n",
      "[[  ----   ----   ----   ----   ----   ----]\n",
      " [  ----   ----   ----   ----   ----   ----]\n",
      " [  ----   ----   ----   ----   ----   ----]\n",
      " [  ----   ----   ----   ----   ----   ----]\n",
      " [  ----   ----   ----   ----   ----   ----]\n",
      " [  ----   ----   ----   ----   ----   ----]]\n",
      "\n",
      "new matrix:\n",
      "[[   0.0    3.0    4.0    5.0    7.0    5.0]\n",
      " [   3.0    0.0    1.0    2.0    4.0    2.0]\n",
      " [   4.0    1.0    0.0    1.0    3.0    3.0]\n",
      " [   5.0    2.0    1.0    0.0    2.0    4.0]\n",
      " [   7.0    4.0    3.0    2.0    0.0    6.0]\n",
      " [   5.0    2.0    3.0    4.0    6.0    0.0]]\n",
      "\n",
      "Result\n",
      "-----------------\n",
      "changes:\n",
      "[[  ----   ----    4.0    5.0    7.0    5.0]\n",
      " [  ----   ----   ----    2.0    4.0   ----]\n",
      " [   4.0   ----   ----   ----    3.0    3.0]\n",
      " [   5.0    2.0   ----   ----   ----    4.0]\n",
      " [   7.0    4.0    3.0   ----   ----    6.0]\n",
      " [   5.0   ----    3.0    4.0    6.0   ----]]\n",
      "\n",
      "new matrix:\n",
      "[[   0.0    3.0    4.0    5.0    7.0    5.0]\n",
      " [   3.0    0.0    1.0    2.0    4.0    2.0]\n",
      " [   4.0    1.0    0.0    1.0    3.0    3.0]\n",
      " [   5.0    2.0    1.0    0.0    2.0    4.0]\n",
      " [   7.0    4.0    3.0    2.0    0.0    6.0]\n",
      " [   5.0    2.0    3.0    4.0    6.0    0.0]]\n"
     ]
    }
   ],
   "execution_count": 179
  },
  {
   "cell_type": "code",
   "id": "f0c9a72d-fadf-4110-b57a-55a251897403",
   "metadata": {
    "ExecuteTime": {
     "end_time": "2025-02-02T18:02:54.101599Z",
     "start_time": "2025-02-02T18:02:54.100381Z"
    }
   },
   "source": [],
   "outputs": [],
   "execution_count": null
  }
 ],
 "metadata": {
  "kernelspec": {
   "display_name": "Python 3 (base)",
   "language": "python",
   "name": "python3"
  },
  "language_info": {
   "codemirror_mode": {
    "name": "ipython",
    "version": 3
   },
   "file_extension": ".py",
   "mimetype": "text/x-python",
   "name": "python",
   "nbconvert_exporter": "python",
   "pygments_lexer": "ipython3",
   "version": "3.9.12"
  }
 },
 "nbformat": 4,
 "nbformat_minor": 5
}
